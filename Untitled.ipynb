{
 "cells": [
  {
   "cell_type": "code",
   "execution_count": 1,
   "metadata": {},
   "outputs": [],
   "source": [
    "import numpy as np\n",
    "import pandas as pd\n",
    "import matplotlib.pyplot as plt\n",
    "import seaborn as sb\n",
    "\n",
    "%matplotlib inline"
   ]
  },
  {
   "cell_type": "code",
   "execution_count": 70,
   "metadata": {},
   "outputs": [
    {
     "data": {
      "text/html": [
       "<div>\n",
       "<style scoped>\n",
       "    .dataframe tbody tr th:only-of-type {\n",
       "        vertical-align: middle;\n",
       "    }\n",
       "\n",
       "    .dataframe tbody tr th {\n",
       "        vertical-align: top;\n",
       "    }\n",
       "\n",
       "    .dataframe thead th {\n",
       "        text-align: right;\n",
       "    }\n",
       "</style>\n",
       "<table border=\"1\" class=\"dataframe\">\n",
       "  <thead>\n",
       "    <tr style=\"text-align: right;\">\n",
       "      <th></th>\n",
       "      <th>duration_sec</th>\n",
       "      <th>start_time</th>\n",
       "      <th>end_time</th>\n",
       "      <th>start_station_id</th>\n",
       "      <th>start_station_name</th>\n",
       "      <th>start_station_latitude</th>\n",
       "      <th>start_station_longitude</th>\n",
       "      <th>end_station_id</th>\n",
       "      <th>end_station_name</th>\n",
       "      <th>end_station_latitude</th>\n",
       "      <th>end_station_longitude</th>\n",
       "      <th>bike_id</th>\n",
       "      <th>user_type</th>\n",
       "      <th>bike_share_for_all_trip</th>\n",
       "    </tr>\n",
       "  </thead>\n",
       "  <tbody>\n",
       "    <tr>\n",
       "      <th>0</th>\n",
       "      <td>52185</td>\n",
       "      <td>2019-02-28 17:32:10.1450</td>\n",
       "      <td>2019-03-01 08:01:55.9750</td>\n",
       "      <td>21.0</td>\n",
       "      <td>Montgomery St BART Station (Market St at 2nd St)</td>\n",
       "      <td>37.789625</td>\n",
       "      <td>-122.400811</td>\n",
       "      <td>13.0</td>\n",
       "      <td>Commercial St at Montgomery St</td>\n",
       "      <td>37.794231</td>\n",
       "      <td>-122.402923</td>\n",
       "      <td>4902</td>\n",
       "      <td>Customer</td>\n",
       "      <td>No</td>\n",
       "    </tr>\n",
       "    <tr>\n",
       "      <th>1</th>\n",
       "      <td>42521</td>\n",
       "      <td>2019-02-28 18:53:21.7890</td>\n",
       "      <td>2019-03-01 06:42:03.0560</td>\n",
       "      <td>23.0</td>\n",
       "      <td>The Embarcadero at Steuart St</td>\n",
       "      <td>37.791464</td>\n",
       "      <td>-122.391034</td>\n",
       "      <td>81.0</td>\n",
       "      <td>Berry St at 4th St</td>\n",
       "      <td>37.775880</td>\n",
       "      <td>-122.393170</td>\n",
       "      <td>2535</td>\n",
       "      <td>Customer</td>\n",
       "      <td>No</td>\n",
       "    </tr>\n",
       "    <tr>\n",
       "      <th>2</th>\n",
       "      <td>61854</td>\n",
       "      <td>2019-02-28 12:13:13.2180</td>\n",
       "      <td>2019-03-01 05:24:08.1460</td>\n",
       "      <td>86.0</td>\n",
       "      <td>Market St at Dolores St</td>\n",
       "      <td>37.769305</td>\n",
       "      <td>-122.426826</td>\n",
       "      <td>3.0</td>\n",
       "      <td>Powell St BART Station (Market St at 4th St)</td>\n",
       "      <td>37.786375</td>\n",
       "      <td>-122.404904</td>\n",
       "      <td>5905</td>\n",
       "      <td>Customer</td>\n",
       "      <td>No</td>\n",
       "    </tr>\n",
       "    <tr>\n",
       "      <th>3</th>\n",
       "      <td>36490</td>\n",
       "      <td>2019-02-28 17:54:26.0100</td>\n",
       "      <td>2019-03-01 04:02:36.8420</td>\n",
       "      <td>375.0</td>\n",
       "      <td>Grove St at Masonic Ave</td>\n",
       "      <td>37.774836</td>\n",
       "      <td>-122.446546</td>\n",
       "      <td>70.0</td>\n",
       "      <td>Central Ave at Fell St</td>\n",
       "      <td>37.773311</td>\n",
       "      <td>-122.444293</td>\n",
       "      <td>6638</td>\n",
       "      <td>Subscriber</td>\n",
       "      <td>No</td>\n",
       "    </tr>\n",
       "    <tr>\n",
       "      <th>4</th>\n",
       "      <td>1585</td>\n",
       "      <td>2019-02-28 23:54:18.5490</td>\n",
       "      <td>2019-03-01 00:20:44.0740</td>\n",
       "      <td>7.0</td>\n",
       "      <td>Frank H Ogawa Plaza</td>\n",
       "      <td>37.804562</td>\n",
       "      <td>-122.271738</td>\n",
       "      <td>222.0</td>\n",
       "      <td>10th Ave at E 15th St</td>\n",
       "      <td>37.792714</td>\n",
       "      <td>-122.248780</td>\n",
       "      <td>4898</td>\n",
       "      <td>Subscriber</td>\n",
       "      <td>Yes</td>\n",
       "    </tr>\n",
       "  </tbody>\n",
       "</table>\n",
       "</div>"
      ],
      "text/plain": [
       "   duration_sec                start_time                  end_time  \\\n",
       "0         52185  2019-02-28 17:32:10.1450  2019-03-01 08:01:55.9750   \n",
       "1         42521  2019-02-28 18:53:21.7890  2019-03-01 06:42:03.0560   \n",
       "2         61854  2019-02-28 12:13:13.2180  2019-03-01 05:24:08.1460   \n",
       "3         36490  2019-02-28 17:54:26.0100  2019-03-01 04:02:36.8420   \n",
       "4          1585  2019-02-28 23:54:18.5490  2019-03-01 00:20:44.0740   \n",
       "\n",
       "   start_station_id                                start_station_name  \\\n",
       "0              21.0  Montgomery St BART Station (Market St at 2nd St)   \n",
       "1              23.0                     The Embarcadero at Steuart St   \n",
       "2              86.0                           Market St at Dolores St   \n",
       "3             375.0                           Grove St at Masonic Ave   \n",
       "4               7.0                               Frank H Ogawa Plaza   \n",
       "\n",
       "   start_station_latitude  start_station_longitude  end_station_id  \\\n",
       "0               37.789625              -122.400811            13.0   \n",
       "1               37.791464              -122.391034            81.0   \n",
       "2               37.769305              -122.426826             3.0   \n",
       "3               37.774836              -122.446546            70.0   \n",
       "4               37.804562              -122.271738           222.0   \n",
       "\n",
       "                               end_station_name  end_station_latitude  \\\n",
       "0                Commercial St at Montgomery St             37.794231   \n",
       "1                            Berry St at 4th St             37.775880   \n",
       "2  Powell St BART Station (Market St at 4th St)             37.786375   \n",
       "3                        Central Ave at Fell St             37.773311   \n",
       "4                         10th Ave at E 15th St             37.792714   \n",
       "\n",
       "   end_station_longitude  bike_id   user_type bike_share_for_all_trip  \n",
       "0            -122.402923     4902    Customer                      No  \n",
       "1            -122.393170     2535    Customer                      No  \n",
       "2            -122.404904     5905    Customer                      No  \n",
       "3            -122.444293     6638  Subscriber                      No  \n",
       "4            -122.248780     4898  Subscriber                     Yes  "
      ]
     },
     "execution_count": 70,
     "metadata": {},
     "output_type": "execute_result"
    }
   ],
   "source": [
    "df = pd.read_csv(r'C:\\Users\\TARUN\\Desktop\\bike_trip.csv')\n",
    "df.head()\n",
    "\n"
   ]
  },
  {
   "cell_type": "code",
   "execution_count": 71,
   "metadata": {},
   "outputs": [
    {
     "name": "stdout",
     "output_type": "stream",
     "text": [
      "<class 'pandas.core.frame.DataFrame'>\n",
      "RangeIndex: 183412 entries, 0 to 183411\n",
      "Data columns (total 14 columns):\n",
      "duration_sec               183412 non-null int64\n",
      "start_time                 183412 non-null object\n",
      "end_time                   183412 non-null object\n",
      "start_station_id           183215 non-null float64\n",
      "start_station_name         183215 non-null object\n",
      "start_station_latitude     183412 non-null float64\n",
      "start_station_longitude    183412 non-null float64\n",
      "end_station_id             183215 non-null float64\n",
      "end_station_name           183215 non-null object\n",
      "end_station_latitude       183412 non-null float64\n",
      "end_station_longitude      183412 non-null float64\n",
      "bike_id                    183412 non-null int64\n",
      "user_type                  183412 non-null object\n",
      "bike_share_for_all_trip    183412 non-null object\n",
      "dtypes: float64(6), int64(2), object(6)\n",
      "memory usage: 19.6+ MB\n"
     ]
    }
   ],
   "source": [
    "df.info()"
   ]
  },
  {
   "cell_type": "code",
   "execution_count": 72,
   "metadata": {},
   "outputs": [
    {
     "data": {
      "text/html": [
       "<div>\n",
       "<style scoped>\n",
       "    .dataframe tbody tr th:only-of-type {\n",
       "        vertical-align: middle;\n",
       "    }\n",
       "\n",
       "    .dataframe tbody tr th {\n",
       "        vertical-align: top;\n",
       "    }\n",
       "\n",
       "    .dataframe thead th {\n",
       "        text-align: right;\n",
       "    }\n",
       "</style>\n",
       "<table border=\"1\" class=\"dataframe\">\n",
       "  <thead>\n",
       "    <tr style=\"text-align: right;\">\n",
       "      <th></th>\n",
       "      <th>duration_sec</th>\n",
       "      <th>start_station_id</th>\n",
       "      <th>start_station_latitude</th>\n",
       "      <th>start_station_longitude</th>\n",
       "      <th>end_station_id</th>\n",
       "      <th>end_station_latitude</th>\n",
       "      <th>end_station_longitude</th>\n",
       "      <th>bike_id</th>\n",
       "    </tr>\n",
       "  </thead>\n",
       "  <tbody>\n",
       "    <tr>\n",
       "      <th>count</th>\n",
       "      <td>183412.000000</td>\n",
       "      <td>183215.000000</td>\n",
       "      <td>183412.000000</td>\n",
       "      <td>183412.000000</td>\n",
       "      <td>183215.000000</td>\n",
       "      <td>183412.000000</td>\n",
       "      <td>183412.000000</td>\n",
       "      <td>183412.000000</td>\n",
       "    </tr>\n",
       "    <tr>\n",
       "      <th>mean</th>\n",
       "      <td>726.078435</td>\n",
       "      <td>138.590427</td>\n",
       "      <td>37.771223</td>\n",
       "      <td>-122.352664</td>\n",
       "      <td>136.249123</td>\n",
       "      <td>37.771427</td>\n",
       "      <td>-122.352250</td>\n",
       "      <td>4472.906375</td>\n",
       "    </tr>\n",
       "    <tr>\n",
       "      <th>std</th>\n",
       "      <td>1794.389780</td>\n",
       "      <td>111.778864</td>\n",
       "      <td>0.099581</td>\n",
       "      <td>0.117097</td>\n",
       "      <td>111.515131</td>\n",
       "      <td>0.099490</td>\n",
       "      <td>0.116673</td>\n",
       "      <td>1664.383394</td>\n",
       "    </tr>\n",
       "    <tr>\n",
       "      <th>min</th>\n",
       "      <td>61.000000</td>\n",
       "      <td>3.000000</td>\n",
       "      <td>37.317298</td>\n",
       "      <td>-122.453704</td>\n",
       "      <td>3.000000</td>\n",
       "      <td>37.317298</td>\n",
       "      <td>-122.453704</td>\n",
       "      <td>11.000000</td>\n",
       "    </tr>\n",
       "    <tr>\n",
       "      <th>25%</th>\n",
       "      <td>325.000000</td>\n",
       "      <td>47.000000</td>\n",
       "      <td>37.770083</td>\n",
       "      <td>-122.412408</td>\n",
       "      <td>44.000000</td>\n",
       "      <td>37.770407</td>\n",
       "      <td>-122.411726</td>\n",
       "      <td>3777.000000</td>\n",
       "    </tr>\n",
       "    <tr>\n",
       "      <th>50%</th>\n",
       "      <td>514.000000</td>\n",
       "      <td>104.000000</td>\n",
       "      <td>37.780760</td>\n",
       "      <td>-122.398285</td>\n",
       "      <td>100.000000</td>\n",
       "      <td>37.781010</td>\n",
       "      <td>-122.398279</td>\n",
       "      <td>4958.000000</td>\n",
       "    </tr>\n",
       "    <tr>\n",
       "      <th>75%</th>\n",
       "      <td>796.000000</td>\n",
       "      <td>239.000000</td>\n",
       "      <td>37.797280</td>\n",
       "      <td>-122.286533</td>\n",
       "      <td>235.000000</td>\n",
       "      <td>37.797320</td>\n",
       "      <td>-122.288045</td>\n",
       "      <td>5502.000000</td>\n",
       "    </tr>\n",
       "    <tr>\n",
       "      <th>max</th>\n",
       "      <td>85444.000000</td>\n",
       "      <td>398.000000</td>\n",
       "      <td>37.880222</td>\n",
       "      <td>-121.874119</td>\n",
       "      <td>398.000000</td>\n",
       "      <td>37.880222</td>\n",
       "      <td>-121.874119</td>\n",
       "      <td>6645.000000</td>\n",
       "    </tr>\n",
       "  </tbody>\n",
       "</table>\n",
       "</div>"
      ],
      "text/plain": [
       "        duration_sec  start_station_id  start_station_latitude  \\\n",
       "count  183412.000000     183215.000000           183412.000000   \n",
       "mean      726.078435        138.590427               37.771223   \n",
       "std      1794.389780        111.778864                0.099581   \n",
       "min        61.000000          3.000000               37.317298   \n",
       "25%       325.000000         47.000000               37.770083   \n",
       "50%       514.000000        104.000000               37.780760   \n",
       "75%       796.000000        239.000000               37.797280   \n",
       "max     85444.000000        398.000000               37.880222   \n",
       "\n",
       "       start_station_longitude  end_station_id  end_station_latitude  \\\n",
       "count            183412.000000   183215.000000         183412.000000   \n",
       "mean               -122.352664      136.249123             37.771427   \n",
       "std                   0.117097      111.515131              0.099490   \n",
       "min                -122.453704        3.000000             37.317298   \n",
       "25%                -122.412408       44.000000             37.770407   \n",
       "50%                -122.398285      100.000000             37.781010   \n",
       "75%                -122.286533      235.000000             37.797320   \n",
       "max                -121.874119      398.000000             37.880222   \n",
       "\n",
       "       end_station_longitude        bike_id  \n",
       "count          183412.000000  183412.000000  \n",
       "mean             -122.352250    4472.906375  \n",
       "std                 0.116673    1664.383394  \n",
       "min              -122.453704      11.000000  \n",
       "25%              -122.411726    3777.000000  \n",
       "50%              -122.398279    4958.000000  \n",
       "75%              -122.288045    5502.000000  \n",
       "max              -121.874119    6645.000000  "
      ]
     },
     "execution_count": 72,
     "metadata": {},
     "output_type": "execute_result"
    }
   ],
   "source": [
    "df.describe()"
   ]
  },
  {
   "cell_type": "code",
   "execution_count": 73,
   "metadata": {},
   "outputs": [
    {
     "data": {
      "text/plain": [
       "duration_sec                 0\n",
       "start_time                   0\n",
       "end_time                     0\n",
       "start_station_id           197\n",
       "start_station_name         197\n",
       "start_station_latitude       0\n",
       "start_station_longitude      0\n",
       "end_station_id             197\n",
       "end_station_name           197\n",
       "end_station_latitude         0\n",
       "end_station_longitude        0\n",
       "bike_id                      0\n",
       "user_type                    0\n",
       "bike_share_for_all_trip      0\n",
       "dtype: int64"
      ]
     },
     "execution_count": 73,
     "metadata": {},
     "output_type": "execute_result"
    }
   ],
   "source": [
    "df.isnull().sum()"
   ]
  },
  {
   "cell_type": "code",
   "execution_count": 76,
   "metadata": {},
   "outputs": [
    {
     "name": "stdout",
     "output_type": "stream",
     "text": [
      "<class 'pandas.core.frame.DataFrame'>\n",
      "Int64Index: 183412 entries, 0 to 183411\n",
      "Data columns (total 14 columns):\n",
      "duration_sec               183412 non-null int64\n",
      "start_time                 183412 non-null object\n",
      "end_time                   183412 non-null object\n",
      "start_station_id           183215 non-null float64\n",
      "start_station_name         183215 non-null object\n",
      "start_station_latitude     183412 non-null float64\n",
      "start_station_longitude    183412 non-null float64\n",
      "end_station_id             183215 non-null float64\n",
      "end_station_name           183215 non-null object\n",
      "end_station_latitude       183412 non-null float64\n",
      "end_station_longitude      183412 non-null float64\n",
      "bike_id                    183412 non-null int64\n",
      "user_type                  183412 non-null object\n",
      "bike_share_for_all_trip    183412 non-null object\n",
      "dtypes: float64(6), int64(2), object(6)\n",
      "memory usage: 21.0+ MB\n"
     ]
    }
   ],
   "source": [
    "# Remove rows that does not have gender value\n",
    "df_clean = df[df['user_type'].isnull() == False]\n",
    "df_clean.info()"
   ]
  },
  {
   "cell_type": "code",
   "execution_count": 77,
   "metadata": {},
   "outputs": [
    {
     "data": {
      "text/plain": [
       "Subscriber    163544\n",
       "Customer       19868\n",
       "Name: user_type, dtype: int64"
      ]
     },
     "execution_count": 77,
     "metadata": {},
     "output_type": "execute_result"
    }
   ],
   "source": [
    "df_clean['user_type'].value_counts()"
   ]
  },
  {
   "cell_type": "code",
   "execution_count": 78,
   "metadata": {},
   "outputs": [
    {
     "name": "stdout",
     "output_type": "stream",
     "text": [
      "<class 'pandas.core.frame.DataFrame'>\n",
      "Int64Index: 183215 entries, 0 to 183411\n",
      "Data columns (total 14 columns):\n",
      "duration_sec               183215 non-null int64\n",
      "start_time                 183215 non-null object\n",
      "end_time                   183215 non-null object\n",
      "start_station_id           183215 non-null float64\n",
      "start_station_name         183215 non-null object\n",
      "start_station_latitude     183215 non-null float64\n",
      "start_station_longitude    183215 non-null float64\n",
      "end_station_id             183215 non-null float64\n",
      "end_station_name           183215 non-null object\n",
      "end_station_latitude       183215 non-null float64\n",
      "end_station_longitude      183215 non-null float64\n",
      "bike_id                    183215 non-null int64\n",
      "user_type                  183215 non-null object\n",
      "bike_share_for_all_trip    183215 non-null object\n",
      "dtypes: float64(6), int64(2), object(6)\n",
      "memory usage: 21.0+ MB\n"
     ]
    }
   ],
   "source": [
    "# Remove reows that does not have station id\n",
    "df_clean = df_clean[df_clean['start_station_id'].isnull() == False]\n",
    "df_clean.info()"
   ]
  },
  {
   "cell_type": "code",
   "execution_count": 79,
   "metadata": {},
   "outputs": [
    {
     "data": {
      "text/plain": [
       "0"
      ]
     },
     "execution_count": 79,
     "metadata": {},
     "output_type": "execute_result"
    }
   ],
   "source": [
    "df_clean.duplicated().sum()\n"
   ]
  },
  {
   "cell_type": "code",
   "execution_count": 80,
   "metadata": {},
   "outputs": [],
   "source": [
    "# Change start_time and end_time to datetime format\n",
    "df_clean.start_time = pd.to_datetime(df_clean.start_time)\n",
    "df_clean.end_time = pd.to_datetime(df_clean.end_time)"
   ]
  },
  {
   "cell_type": "code",
   "execution_count": 81,
   "metadata": {},
   "outputs": [],
   "source": [
    "# Extract dayofweek, hours information from the start_time\n",
    "df_clean['start_time_dayofweek']= df_clean['start_time'].dt.strftime('%a')\n",
    "df_clean['start_time_hour']= df_clean['start_time'].dt.hour"
   ]
  },
  {
   "cell_type": "code",
   "execution_count": 82,
   "metadata": {},
   "outputs": [
    {
     "name": "stdout",
     "output_type": "stream",
     "text": [
      "<class 'pandas.core.frame.DataFrame'>\n",
      "Int64Index: 183215 entries, 0 to 183411\n",
      "Data columns (total 16 columns):\n",
      "duration_sec               183215 non-null int64\n",
      "start_time                 183215 non-null datetime64[ns]\n",
      "end_time                   183215 non-null datetime64[ns]\n",
      "start_station_id           183215 non-null float64\n",
      "start_station_name         183215 non-null object\n",
      "start_station_latitude     183215 non-null float64\n",
      "start_station_longitude    183215 non-null float64\n",
      "end_station_id             183215 non-null float64\n",
      "end_station_name           183215 non-null object\n",
      "end_station_latitude       183215 non-null float64\n",
      "end_station_longitude      183215 non-null float64\n",
      "bike_id                    183215 non-null int64\n",
      "user_type                  183215 non-null object\n",
      "bike_share_for_all_trip    183215 non-null object\n",
      "start_time_dayofweek       183215 non-null object\n",
      "start_time_hour            183215 non-null int64\n",
      "dtypes: datetime64[ns](2), float64(6), int64(3), object(5)\n",
      "memory usage: 23.8+ MB\n"
     ]
    }
   ],
   "source": [
    "df_clean.info()"
   ]
  },
  {
   "cell_type": "code",
   "execution_count": 84,
   "metadata": {},
   "outputs": [
    {
     "data": {
      "text/html": [
       "<div>\n",
       "<style scoped>\n",
       "    .dataframe tbody tr th:only-of-type {\n",
       "        vertical-align: middle;\n",
       "    }\n",
       "\n",
       "    .dataframe tbody tr th {\n",
       "        vertical-align: top;\n",
       "    }\n",
       "\n",
       "    .dataframe thead th {\n",
       "        text-align: right;\n",
       "    }\n",
       "</style>\n",
       "<table border=\"1\" class=\"dataframe\">\n",
       "  <thead>\n",
       "    <tr style=\"text-align: right;\">\n",
       "      <th></th>\n",
       "      <th>duration_sec</th>\n",
       "      <th>start_time</th>\n",
       "      <th>end_time</th>\n",
       "      <th>start_station_id</th>\n",
       "      <th>start_station_name</th>\n",
       "      <th>start_station_latitude</th>\n",
       "      <th>start_station_longitude</th>\n",
       "      <th>end_station_id</th>\n",
       "      <th>end_station_name</th>\n",
       "      <th>end_station_latitude</th>\n",
       "      <th>end_station_longitude</th>\n",
       "      <th>bike_id</th>\n",
       "      <th>user_type</th>\n",
       "      <th>bike_share_for_all_trip</th>\n",
       "      <th>start_time_dayofweek</th>\n",
       "      <th>start_time_hour</th>\n",
       "    </tr>\n",
       "  </thead>\n",
       "  <tbody>\n",
       "    <tr>\n",
       "      <th>0</th>\n",
       "      <td>52185</td>\n",
       "      <td>2019-02-28 17:32:10.145</td>\n",
       "      <td>2019-03-01 08:01:55.975</td>\n",
       "      <td>21.0</td>\n",
       "      <td>Montgomery St BART Station (Market St at 2nd St)</td>\n",
       "      <td>37.789625</td>\n",
       "      <td>-122.400811</td>\n",
       "      <td>13.0</td>\n",
       "      <td>Commercial St at Montgomery St</td>\n",
       "      <td>37.794231</td>\n",
       "      <td>-122.402923</td>\n",
       "      <td>4902</td>\n",
       "      <td>Customer</td>\n",
       "      <td>No</td>\n",
       "      <td>Thu</td>\n",
       "      <td>17</td>\n",
       "    </tr>\n",
       "    <tr>\n",
       "      <th>1</th>\n",
       "      <td>42521</td>\n",
       "      <td>2019-02-28 18:53:21.789</td>\n",
       "      <td>2019-03-01 06:42:03.056</td>\n",
       "      <td>23.0</td>\n",
       "      <td>The Embarcadero at Steuart St</td>\n",
       "      <td>37.791464</td>\n",
       "      <td>-122.391034</td>\n",
       "      <td>81.0</td>\n",
       "      <td>Berry St at 4th St</td>\n",
       "      <td>37.775880</td>\n",
       "      <td>-122.393170</td>\n",
       "      <td>2535</td>\n",
       "      <td>Customer</td>\n",
       "      <td>No</td>\n",
       "      <td>Thu</td>\n",
       "      <td>18</td>\n",
       "    </tr>\n",
       "    <tr>\n",
       "      <th>2</th>\n",
       "      <td>61854</td>\n",
       "      <td>2019-02-28 12:13:13.218</td>\n",
       "      <td>2019-03-01 05:24:08.146</td>\n",
       "      <td>86.0</td>\n",
       "      <td>Market St at Dolores St</td>\n",
       "      <td>37.769305</td>\n",
       "      <td>-122.426826</td>\n",
       "      <td>3.0</td>\n",
       "      <td>Powell St BART Station (Market St at 4th St)</td>\n",
       "      <td>37.786375</td>\n",
       "      <td>-122.404904</td>\n",
       "      <td>5905</td>\n",
       "      <td>Customer</td>\n",
       "      <td>No</td>\n",
       "      <td>Thu</td>\n",
       "      <td>12</td>\n",
       "    </tr>\n",
       "    <tr>\n",
       "      <th>3</th>\n",
       "      <td>36490</td>\n",
       "      <td>2019-02-28 17:54:26.010</td>\n",
       "      <td>2019-03-01 04:02:36.842</td>\n",
       "      <td>375.0</td>\n",
       "      <td>Grove St at Masonic Ave</td>\n",
       "      <td>37.774836</td>\n",
       "      <td>-122.446546</td>\n",
       "      <td>70.0</td>\n",
       "      <td>Central Ave at Fell St</td>\n",
       "      <td>37.773311</td>\n",
       "      <td>-122.444293</td>\n",
       "      <td>6638</td>\n",
       "      <td>Subscriber</td>\n",
       "      <td>No</td>\n",
       "      <td>Thu</td>\n",
       "      <td>17</td>\n",
       "    </tr>\n",
       "    <tr>\n",
       "      <th>4</th>\n",
       "      <td>1585</td>\n",
       "      <td>2019-02-28 23:54:18.549</td>\n",
       "      <td>2019-03-01 00:20:44.074</td>\n",
       "      <td>7.0</td>\n",
       "      <td>Frank H Ogawa Plaza</td>\n",
       "      <td>37.804562</td>\n",
       "      <td>-122.271738</td>\n",
       "      <td>222.0</td>\n",
       "      <td>10th Ave at E 15th St</td>\n",
       "      <td>37.792714</td>\n",
       "      <td>-122.248780</td>\n",
       "      <td>4898</td>\n",
       "      <td>Subscriber</td>\n",
       "      <td>Yes</td>\n",
       "      <td>Thu</td>\n",
       "      <td>23</td>\n",
       "    </tr>\n",
       "  </tbody>\n",
       "</table>\n",
       "</div>"
      ],
      "text/plain": [
       "   duration_sec              start_time                end_time  \\\n",
       "0         52185 2019-02-28 17:32:10.145 2019-03-01 08:01:55.975   \n",
       "1         42521 2019-02-28 18:53:21.789 2019-03-01 06:42:03.056   \n",
       "2         61854 2019-02-28 12:13:13.218 2019-03-01 05:24:08.146   \n",
       "3         36490 2019-02-28 17:54:26.010 2019-03-01 04:02:36.842   \n",
       "4          1585 2019-02-28 23:54:18.549 2019-03-01 00:20:44.074   \n",
       "\n",
       "   start_station_id                                start_station_name  \\\n",
       "0              21.0  Montgomery St BART Station (Market St at 2nd St)   \n",
       "1              23.0                     The Embarcadero at Steuart St   \n",
       "2              86.0                           Market St at Dolores St   \n",
       "3             375.0                           Grove St at Masonic Ave   \n",
       "4               7.0                               Frank H Ogawa Plaza   \n",
       "\n",
       "   start_station_latitude  start_station_longitude  end_station_id  \\\n",
       "0               37.789625              -122.400811            13.0   \n",
       "1               37.791464              -122.391034            81.0   \n",
       "2               37.769305              -122.426826             3.0   \n",
       "3               37.774836              -122.446546            70.0   \n",
       "4               37.804562              -122.271738           222.0   \n",
       "\n",
       "                               end_station_name  end_station_latitude  \\\n",
       "0                Commercial St at Montgomery St             37.794231   \n",
       "1                            Berry St at 4th St             37.775880   \n",
       "2  Powell St BART Station (Market St at 4th St)             37.786375   \n",
       "3                        Central Ave at Fell St             37.773311   \n",
       "4                         10th Ave at E 15th St             37.792714   \n",
       "\n",
       "   end_station_longitude  bike_id   user_type bike_share_for_all_trip  \\\n",
       "0            -122.402923     4902    Customer                      No   \n",
       "1            -122.393170     2535    Customer                      No   \n",
       "2            -122.404904     5905    Customer                      No   \n",
       "3            -122.444293     6638  Subscriber                      No   \n",
       "4            -122.248780     4898  Subscriber                     Yes   \n",
       "\n",
       "  start_time_dayofweek  start_time_hour  \n",
       "0                  Thu               17  \n",
       "1                  Thu               18  \n",
       "2                  Thu               12  \n",
       "3                  Thu               17  \n",
       "4                  Thu               23  "
      ]
     },
     "execution_count": 84,
     "metadata": {},
     "output_type": "execute_result"
    }
   ],
   "source": [
    "df_clean.head()"
   ]
  },
  {
   "cell_type": "code",
   "execution_count": 85,
   "metadata": {},
   "outputs": [
    {
     "data": {
      "text/plain": [
       "Thu    35176\n",
       "Tue    31781\n",
       "Wed    29609\n",
       "Fri    28962\n",
       "Mon    26807\n",
       "Sun    15503\n",
       "Sat    15377\n",
       "Name: start_time_dayofweek, dtype: int64"
      ]
     },
     "execution_count": 85,
     "metadata": {},
     "output_type": "execute_result"
    }
   ],
   "source": [
    "df_clean['start_time_dayofweek'].value_counts()"
   ]
  },
  {
   "cell_type": "code",
   "execution_count": 86,
   "metadata": {},
   "outputs": [],
   "source": [
    "# Convert the start_time_dayofweek to ordinal variables.\n",
    "weekdays = ['Mon','Tue','Wed','Thu','Fri', 'Sat', 'Sun']\n",
    "ordered_weekdays = pd.api.types.CategoricalDtype(ordered = True, categories = weekdays)\n",
    "df_clean['start_time_dayofweek'] = df_clean['start_time_dayofweek'].astype(ordered_weekdays)"
   ]
  },
  {
   "cell_type": "code",
   "execution_count": 87,
   "metadata": {},
   "outputs": [
    {
     "name": "stdout",
     "output_type": "stream",
     "text": [
      "<class 'pandas.core.frame.DataFrame'>\n",
      "Int64Index: 183215 entries, 0 to 183411\n",
      "Data columns (total 16 columns):\n",
      "duration_sec               183215 non-null int64\n",
      "start_time                 183215 non-null datetime64[ns]\n",
      "end_time                   183215 non-null datetime64[ns]\n",
      "start_station_id           183215 non-null float64\n",
      "start_station_name         183215 non-null object\n",
      "start_station_latitude     183215 non-null float64\n",
      "start_station_longitude    183215 non-null float64\n",
      "end_station_id             183215 non-null float64\n",
      "end_station_name           183215 non-null object\n",
      "end_station_latitude       183215 non-null float64\n",
      "end_station_longitude      183215 non-null float64\n",
      "bike_id                    183215 non-null int64\n",
      "user_type                  183215 non-null object\n",
      "bike_share_for_all_trip    183215 non-null object\n",
      "start_time_dayofweek       183215 non-null category\n",
      "start_time_hour            183215 non-null int64\n",
      "dtypes: category(1), datetime64[ns](2), float64(6), int64(3), object(4)\n",
      "memory usage: 22.5+ MB\n"
     ]
    }
   ],
   "source": [
    "df_clean.info()\n"
   ]
  },
  {
   "cell_type": "code",
   "execution_count": 88,
   "metadata": {},
   "outputs": [
    {
     "data": {
      "text/html": [
       "<div>\n",
       "<style scoped>\n",
       "    .dataframe tbody tr th:only-of-type {\n",
       "        vertical-align: middle;\n",
       "    }\n",
       "\n",
       "    .dataframe tbody tr th {\n",
       "        vertical-align: top;\n",
       "    }\n",
       "\n",
       "    .dataframe thead th {\n",
       "        text-align: right;\n",
       "    }\n",
       "</style>\n",
       "<table border=\"1\" class=\"dataframe\">\n",
       "  <thead>\n",
       "    <tr style=\"text-align: right;\">\n",
       "      <th></th>\n",
       "      <th>duration_sec</th>\n",
       "      <th>start_time</th>\n",
       "      <th>end_time</th>\n",
       "      <th>start_station_id</th>\n",
       "      <th>start_station_name</th>\n",
       "      <th>start_station_latitude</th>\n",
       "      <th>start_station_longitude</th>\n",
       "      <th>end_station_id</th>\n",
       "      <th>end_station_name</th>\n",
       "      <th>end_station_latitude</th>\n",
       "      <th>end_station_longitude</th>\n",
       "      <th>bike_id</th>\n",
       "      <th>user_type</th>\n",
       "      <th>bike_share_for_all_trip</th>\n",
       "      <th>start_time_dayofweek</th>\n",
       "      <th>start_time_hour</th>\n",
       "    </tr>\n",
       "  </thead>\n",
       "  <tbody>\n",
       "    <tr>\n",
       "      <th>0</th>\n",
       "      <td>52185</td>\n",
       "      <td>2019-02-28 17:32:10.145</td>\n",
       "      <td>2019-03-01 08:01:55.975</td>\n",
       "      <td>21.0</td>\n",
       "      <td>Montgomery St BART Station (Market St at 2nd St)</td>\n",
       "      <td>37.789625</td>\n",
       "      <td>-122.400811</td>\n",
       "      <td>13.0</td>\n",
       "      <td>Commercial St at Montgomery St</td>\n",
       "      <td>37.794231</td>\n",
       "      <td>-122.402923</td>\n",
       "      <td>4902</td>\n",
       "      <td>Customer</td>\n",
       "      <td>No</td>\n",
       "      <td>Thu</td>\n",
       "      <td>17</td>\n",
       "    </tr>\n",
       "    <tr>\n",
       "      <th>1</th>\n",
       "      <td>42521</td>\n",
       "      <td>2019-02-28 18:53:21.789</td>\n",
       "      <td>2019-03-01 06:42:03.056</td>\n",
       "      <td>23.0</td>\n",
       "      <td>The Embarcadero at Steuart St</td>\n",
       "      <td>37.791464</td>\n",
       "      <td>-122.391034</td>\n",
       "      <td>81.0</td>\n",
       "      <td>Berry St at 4th St</td>\n",
       "      <td>37.775880</td>\n",
       "      <td>-122.393170</td>\n",
       "      <td>2535</td>\n",
       "      <td>Customer</td>\n",
       "      <td>No</td>\n",
       "      <td>Thu</td>\n",
       "      <td>18</td>\n",
       "    </tr>\n",
       "    <tr>\n",
       "      <th>2</th>\n",
       "      <td>61854</td>\n",
       "      <td>2019-02-28 12:13:13.218</td>\n",
       "      <td>2019-03-01 05:24:08.146</td>\n",
       "      <td>86.0</td>\n",
       "      <td>Market St at Dolores St</td>\n",
       "      <td>37.769305</td>\n",
       "      <td>-122.426826</td>\n",
       "      <td>3.0</td>\n",
       "      <td>Powell St BART Station (Market St at 4th St)</td>\n",
       "      <td>37.786375</td>\n",
       "      <td>-122.404904</td>\n",
       "      <td>5905</td>\n",
       "      <td>Customer</td>\n",
       "      <td>No</td>\n",
       "      <td>Thu</td>\n",
       "      <td>12</td>\n",
       "    </tr>\n",
       "    <tr>\n",
       "      <th>3</th>\n",
       "      <td>36490</td>\n",
       "      <td>2019-02-28 17:54:26.010</td>\n",
       "      <td>2019-03-01 04:02:36.842</td>\n",
       "      <td>375.0</td>\n",
       "      <td>Grove St at Masonic Ave</td>\n",
       "      <td>37.774836</td>\n",
       "      <td>-122.446546</td>\n",
       "      <td>70.0</td>\n",
       "      <td>Central Ave at Fell St</td>\n",
       "      <td>37.773311</td>\n",
       "      <td>-122.444293</td>\n",
       "      <td>6638</td>\n",
       "      <td>Subscriber</td>\n",
       "      <td>No</td>\n",
       "      <td>Thu</td>\n",
       "      <td>17</td>\n",
       "    </tr>\n",
       "    <tr>\n",
       "      <th>4</th>\n",
       "      <td>1585</td>\n",
       "      <td>2019-02-28 23:54:18.549</td>\n",
       "      <td>2019-03-01 00:20:44.074</td>\n",
       "      <td>7.0</td>\n",
       "      <td>Frank H Ogawa Plaza</td>\n",
       "      <td>37.804562</td>\n",
       "      <td>-122.271738</td>\n",
       "      <td>222.0</td>\n",
       "      <td>10th Ave at E 15th St</td>\n",
       "      <td>37.792714</td>\n",
       "      <td>-122.248780</td>\n",
       "      <td>4898</td>\n",
       "      <td>Subscriber</td>\n",
       "      <td>Yes</td>\n",
       "      <td>Thu</td>\n",
       "      <td>23</td>\n",
       "    </tr>\n",
       "  </tbody>\n",
       "</table>\n",
       "</div>"
      ],
      "text/plain": [
       "   duration_sec              start_time                end_time  \\\n",
       "0         52185 2019-02-28 17:32:10.145 2019-03-01 08:01:55.975   \n",
       "1         42521 2019-02-28 18:53:21.789 2019-03-01 06:42:03.056   \n",
       "2         61854 2019-02-28 12:13:13.218 2019-03-01 05:24:08.146   \n",
       "3         36490 2019-02-28 17:54:26.010 2019-03-01 04:02:36.842   \n",
       "4          1585 2019-02-28 23:54:18.549 2019-03-01 00:20:44.074   \n",
       "\n",
       "   start_station_id                                start_station_name  \\\n",
       "0              21.0  Montgomery St BART Station (Market St at 2nd St)   \n",
       "1              23.0                     The Embarcadero at Steuart St   \n",
       "2              86.0                           Market St at Dolores St   \n",
       "3             375.0                           Grove St at Masonic Ave   \n",
       "4               7.0                               Frank H Ogawa Plaza   \n",
       "\n",
       "   start_station_latitude  start_station_longitude  end_station_id  \\\n",
       "0               37.789625              -122.400811            13.0   \n",
       "1               37.791464              -122.391034            81.0   \n",
       "2               37.769305              -122.426826             3.0   \n",
       "3               37.774836              -122.446546            70.0   \n",
       "4               37.804562              -122.271738           222.0   \n",
       "\n",
       "                               end_station_name  end_station_latitude  \\\n",
       "0                Commercial St at Montgomery St             37.794231   \n",
       "1                            Berry St at 4th St             37.775880   \n",
       "2  Powell St BART Station (Market St at 4th St)             37.786375   \n",
       "3                        Central Ave at Fell St             37.773311   \n",
       "4                         10th Ave at E 15th St             37.792714   \n",
       "\n",
       "   end_station_longitude  bike_id   user_type bike_share_for_all_trip  \\\n",
       "0            -122.402923     4902    Customer                      No   \n",
       "1            -122.393170     2535    Customer                      No   \n",
       "2            -122.404904     5905    Customer                      No   \n",
       "3            -122.444293     6638  Subscriber                      No   \n",
       "4            -122.248780     4898  Subscriber                     Yes   \n",
       "\n",
       "  start_time_dayofweek  start_time_hour  \n",
       "0                  Thu               17  \n",
       "1                  Thu               18  \n",
       "2                  Thu               12  \n",
       "3                  Thu               17  \n",
       "4                  Thu               23  "
      ]
     },
     "execution_count": 88,
     "metadata": {},
     "output_type": "execute_result"
    }
   ],
   "source": [
    "df_clean.head()"
   ]
  },
  {
   "cell_type": "markdown",
   "metadata": {},
   "source": [
    "# What is the structure of your dataset?"
   ]
  },
  {
   "cell_type": "markdown",
   "metadata": {},
   "source": [
    "# The dataset has 20000+ bike rides that happen in 2019 in the San Francisco Bay Area. The dataset contained features about:\n",
    "\n",
    "trip duration: how long the trip took in seconds\n",
    "start time/end time: start/end date/time for the bike rides.\n",
    "stations: start/end station, name, geolocation (latitude/longitude)\n",
    "anonymized customer data: gender, birth date and user type\n",
    "rented bikes: bike id\n",
    "The dataset was further enhanced with features that I may find neccessary to perform interesting analysis:\n",
    "\n",
    "rental time: hour of the day, weekday\n",
    "customer: age"
   ]
  },
  {
   "cell_type": "markdown",
   "metadata": {},
   "source": [
    "# What is/are the main feature(s) of interest in your dataset?\n",
    "\n",
    "I am interested in investigating the duration of biking time."
   ]
  },
  {
   "cell_type": "markdown",
   "metadata": {},
   "source": [
    "# What features in the dataset do you think will help support your investigation into your feature(s) of interest? \n",
    "\n",
    "I think the following features may help to support my investigation into the feature (duration) I am interested.\n",
    "\n",
    "start_time - I'll extract dayofweek, hours for further investigation.\n",
    "member_birth_year - we may derive member age and investigate the relationship between member age and bike durations.\n",
    "member_gender\n",
    "user_type"
   ]
  },
  {
   "cell_type": "markdown",
   "metadata": {},
   "source": [
    "# Univariate Exploration\n",
    "Let's convert duration to minutes instead of seconds for easy investigations."
   ]
  },
  {
   "cell_type": "code",
   "execution_count": 89,
   "metadata": {},
   "outputs": [
    {
     "name": "stdout",
     "output_type": "stream",
     "text": [
      "<class 'pandas.core.frame.DataFrame'>\n",
      "Int64Index: 183215 entries, 0 to 183411\n",
      "Data columns (total 17 columns):\n",
      "duration_sec               183215 non-null int64\n",
      "start_time                 183215 non-null datetime64[ns]\n",
      "end_time                   183215 non-null datetime64[ns]\n",
      "start_station_id           183215 non-null float64\n",
      "start_station_name         183215 non-null object\n",
      "start_station_latitude     183215 non-null float64\n",
      "start_station_longitude    183215 non-null float64\n",
      "end_station_id             183215 non-null float64\n",
      "end_station_name           183215 non-null object\n",
      "end_station_latitude       183215 non-null float64\n",
      "end_station_longitude      183215 non-null float64\n",
      "bike_id                    183215 non-null int64\n",
      "user_type                  183215 non-null object\n",
      "bike_share_for_all_trip    183215 non-null object\n",
      "start_time_dayofweek       183215 non-null category\n",
      "start_time_hour            183215 non-null int64\n",
      "duration_min               183215 non-null float64\n",
      "dtypes: category(1), datetime64[ns](2), float64(7), int64(3), object(4)\n",
      "memory usage: 23.9+ MB\n"
     ]
    }
   ],
   "source": [
    "df_clean['duration_min'] = df_clean['duration_sec']/60\n",
    "df_clean.info()"
   ]
  },
  {
   "cell_type": "code",
   "execution_count": 90,
   "metadata": {},
   "outputs": [
    {
     "data": {
      "text/html": [
       "<div>\n",
       "<style scoped>\n",
       "    .dataframe tbody tr th:only-of-type {\n",
       "        vertical-align: middle;\n",
       "    }\n",
       "\n",
       "    .dataframe tbody tr th {\n",
       "        vertical-align: top;\n",
       "    }\n",
       "\n",
       "    .dataframe thead th {\n",
       "        text-align: right;\n",
       "    }\n",
       "</style>\n",
       "<table border=\"1\" class=\"dataframe\">\n",
       "  <thead>\n",
       "    <tr style=\"text-align: right;\">\n",
       "      <th></th>\n",
       "      <th>duration_sec</th>\n",
       "      <th>start_time</th>\n",
       "      <th>end_time</th>\n",
       "      <th>start_station_id</th>\n",
       "      <th>start_station_name</th>\n",
       "      <th>start_station_latitude</th>\n",
       "      <th>start_station_longitude</th>\n",
       "      <th>end_station_id</th>\n",
       "      <th>end_station_name</th>\n",
       "      <th>end_station_latitude</th>\n",
       "      <th>end_station_longitude</th>\n",
       "      <th>bike_id</th>\n",
       "      <th>user_type</th>\n",
       "      <th>bike_share_for_all_trip</th>\n",
       "      <th>start_time_dayofweek</th>\n",
       "      <th>start_time_hour</th>\n",
       "      <th>duration_min</th>\n",
       "    </tr>\n",
       "  </thead>\n",
       "  <tbody>\n",
       "    <tr>\n",
       "      <th>0</th>\n",
       "      <td>52185</td>\n",
       "      <td>2019-02-28 17:32:10.145</td>\n",
       "      <td>2019-03-01 08:01:55.975</td>\n",
       "      <td>21.0</td>\n",
       "      <td>Montgomery St BART Station (Market St at 2nd St)</td>\n",
       "      <td>37.789625</td>\n",
       "      <td>-122.400811</td>\n",
       "      <td>13.0</td>\n",
       "      <td>Commercial St at Montgomery St</td>\n",
       "      <td>37.794231</td>\n",
       "      <td>-122.402923</td>\n",
       "      <td>4902</td>\n",
       "      <td>Customer</td>\n",
       "      <td>No</td>\n",
       "      <td>Thu</td>\n",
       "      <td>17</td>\n",
       "      <td>869.750000</td>\n",
       "    </tr>\n",
       "    <tr>\n",
       "      <th>1</th>\n",
       "      <td>42521</td>\n",
       "      <td>2019-02-28 18:53:21.789</td>\n",
       "      <td>2019-03-01 06:42:03.056</td>\n",
       "      <td>23.0</td>\n",
       "      <td>The Embarcadero at Steuart St</td>\n",
       "      <td>37.791464</td>\n",
       "      <td>-122.391034</td>\n",
       "      <td>81.0</td>\n",
       "      <td>Berry St at 4th St</td>\n",
       "      <td>37.775880</td>\n",
       "      <td>-122.393170</td>\n",
       "      <td>2535</td>\n",
       "      <td>Customer</td>\n",
       "      <td>No</td>\n",
       "      <td>Thu</td>\n",
       "      <td>18</td>\n",
       "      <td>708.683333</td>\n",
       "    </tr>\n",
       "    <tr>\n",
       "      <th>2</th>\n",
       "      <td>61854</td>\n",
       "      <td>2019-02-28 12:13:13.218</td>\n",
       "      <td>2019-03-01 05:24:08.146</td>\n",
       "      <td>86.0</td>\n",
       "      <td>Market St at Dolores St</td>\n",
       "      <td>37.769305</td>\n",
       "      <td>-122.426826</td>\n",
       "      <td>3.0</td>\n",
       "      <td>Powell St BART Station (Market St at 4th St)</td>\n",
       "      <td>37.786375</td>\n",
       "      <td>-122.404904</td>\n",
       "      <td>5905</td>\n",
       "      <td>Customer</td>\n",
       "      <td>No</td>\n",
       "      <td>Thu</td>\n",
       "      <td>12</td>\n",
       "      <td>1030.900000</td>\n",
       "    </tr>\n",
       "    <tr>\n",
       "      <th>3</th>\n",
       "      <td>36490</td>\n",
       "      <td>2019-02-28 17:54:26.010</td>\n",
       "      <td>2019-03-01 04:02:36.842</td>\n",
       "      <td>375.0</td>\n",
       "      <td>Grove St at Masonic Ave</td>\n",
       "      <td>37.774836</td>\n",
       "      <td>-122.446546</td>\n",
       "      <td>70.0</td>\n",
       "      <td>Central Ave at Fell St</td>\n",
       "      <td>37.773311</td>\n",
       "      <td>-122.444293</td>\n",
       "      <td>6638</td>\n",
       "      <td>Subscriber</td>\n",
       "      <td>No</td>\n",
       "      <td>Thu</td>\n",
       "      <td>17</td>\n",
       "      <td>608.166667</td>\n",
       "    </tr>\n",
       "    <tr>\n",
       "      <th>4</th>\n",
       "      <td>1585</td>\n",
       "      <td>2019-02-28 23:54:18.549</td>\n",
       "      <td>2019-03-01 00:20:44.074</td>\n",
       "      <td>7.0</td>\n",
       "      <td>Frank H Ogawa Plaza</td>\n",
       "      <td>37.804562</td>\n",
       "      <td>-122.271738</td>\n",
       "      <td>222.0</td>\n",
       "      <td>10th Ave at E 15th St</td>\n",
       "      <td>37.792714</td>\n",
       "      <td>-122.248780</td>\n",
       "      <td>4898</td>\n",
       "      <td>Subscriber</td>\n",
       "      <td>Yes</td>\n",
       "      <td>Thu</td>\n",
       "      <td>23</td>\n",
       "      <td>26.416667</td>\n",
       "    </tr>\n",
       "  </tbody>\n",
       "</table>\n",
       "</div>"
      ],
      "text/plain": [
       "   duration_sec              start_time                end_time  \\\n",
       "0         52185 2019-02-28 17:32:10.145 2019-03-01 08:01:55.975   \n",
       "1         42521 2019-02-28 18:53:21.789 2019-03-01 06:42:03.056   \n",
       "2         61854 2019-02-28 12:13:13.218 2019-03-01 05:24:08.146   \n",
       "3         36490 2019-02-28 17:54:26.010 2019-03-01 04:02:36.842   \n",
       "4          1585 2019-02-28 23:54:18.549 2019-03-01 00:20:44.074   \n",
       "\n",
       "   start_station_id                                start_station_name  \\\n",
       "0              21.0  Montgomery St BART Station (Market St at 2nd St)   \n",
       "1              23.0                     The Embarcadero at Steuart St   \n",
       "2              86.0                           Market St at Dolores St   \n",
       "3             375.0                           Grove St at Masonic Ave   \n",
       "4               7.0                               Frank H Ogawa Plaza   \n",
       "\n",
       "   start_station_latitude  start_station_longitude  end_station_id  \\\n",
       "0               37.789625              -122.400811            13.0   \n",
       "1               37.791464              -122.391034            81.0   \n",
       "2               37.769305              -122.426826             3.0   \n",
       "3               37.774836              -122.446546            70.0   \n",
       "4               37.804562              -122.271738           222.0   \n",
       "\n",
       "                               end_station_name  end_station_latitude  \\\n",
       "0                Commercial St at Montgomery St             37.794231   \n",
       "1                            Berry St at 4th St             37.775880   \n",
       "2  Powell St BART Station (Market St at 4th St)             37.786375   \n",
       "3                        Central Ave at Fell St             37.773311   \n",
       "4                         10th Ave at E 15th St             37.792714   \n",
       "\n",
       "   end_station_longitude  bike_id   user_type bike_share_for_all_trip  \\\n",
       "0            -122.402923     4902    Customer                      No   \n",
       "1            -122.393170     2535    Customer                      No   \n",
       "2            -122.404904     5905    Customer                      No   \n",
       "3            -122.444293     6638  Subscriber                      No   \n",
       "4            -122.248780     4898  Subscriber                     Yes   \n",
       "\n",
       "  start_time_dayofweek  start_time_hour  duration_min  \n",
       "0                  Thu               17    869.750000  \n",
       "1                  Thu               18    708.683333  \n",
       "2                  Thu               12   1030.900000  \n",
       "3                  Thu               17    608.166667  \n",
       "4                  Thu               23     26.416667  "
      ]
     },
     "execution_count": 90,
     "metadata": {},
     "output_type": "execute_result"
    }
   ],
   "source": [
    "df_clean.head()"
   ]
  },
  {
   "cell_type": "code",
   "execution_count": 91,
   "metadata": {},
   "outputs": [
    {
     "data": {
      "image/png": "[encoded data removed]",
      "text/plain": [
       "<Figure size 576x360 with 1 Axes>"
      ]
     },
     "metadata": {
      "needs_background": "light"
     },
     "output_type": "display_data"
    }
   ],
   "source": [
    "binsize = 10\n",
    "bins = np.arange(0, df_clean['duration_min'].max()+binsize, binsize)\n",
    "\n",
    "plt.figure(figsize=[8, 5])\n",
    "\n",
    "plt.hist(data = df_clean, x = 'duration_min', bins=bins);"
   ]
  },
  {
   "cell_type": "code",
   "execution_count": 92,
   "metadata": {},
   "outputs": [
    {
     "name": "stderr",
     "output_type": "stream",
     "text": [
      "D:\\condas\\lib\\site-packages\\scipy\\stats\\stats.py:1713: FutureWarning: Using a non-tuple sequence for multidimensional indexing is deprecated; use `arr[tuple(seq)]` instead of `arr[seq]`. In the future this will be interpreted as an array index, `arr[np.array(seq)]`, which will result either in an error or a different result.\n",
      "  return np.add.reduce(sorted[indexer] * weights, axis=axis) / sumval\n"
     ]
    },
    {
     "data": {
      "image/png": "[encoded data removed]",
      "text/plain": [
       "<Figure size 432x288 with 1 Axes>"
      ]
     },
     "metadata": {
      "needs_background": "light"
     },
     "output_type": "display_data"
    }
   ],
   "source": [
    "sb.violinplot(data = df_clean, x = 'duration_min');"
   ]
  },
  {
   "cell_type": "markdown",
   "metadata": {},
   "source": [
    "It's seems that most data are below 50. Let's find out the distribution."
   ]
  },
  {
   "cell_type": "code",
   "execution_count": 94,
   "metadata": {},
   "outputs": [
    {
     "data": {
      "text/plain": [
       "count    183215.000000\n",
       "mean         12.098367\n",
       "std          29.917978\n",
       "min           1.016667\n",
       "25%           5.416667\n",
       "50%           8.566667\n",
       "75%          13.266667\n",
       "max        1424.066667\n",
       "Name: duration_min, dtype: float64"
      ]
     },
     "execution_count": 94,
     "metadata": {},
     "output_type": "execute_result"
    }
   ],
   "source": [
    "df_clean['duration_min'].describe()"
   ]
  },
  {
   "cell_type": "markdown",
   "metadata": {},
   "source": [
    "The data is not distributed normally. Let's calculate of IQR:\n",
    "\n",
    "IQR = Q3 - Q1 = 14.416 - 5.766\n",
    "Upper Wisker Bound = (1.5 * IQR) + Q3 = 12.975 + 14.416 = 27.391"
   ]
  },
  {
   "cell_type": "code",
   "execution_count": 95,
   "metadata": {},
   "outputs": [
    {
     "data": {
      "image/png": "[encoded data removed]",
      "text/plain": [
       "<Figure size 576x360 with 1 Axes>"
      ]
     },
     "metadata": {
      "needs_background": "light"
     },
     "output_type": "display_data"
    }
   ],
   "source": [
    "# there's a long tail in the distribution, so let's put it on a log scale instead\n",
    "log_binsize = 0.025\n",
    "bins = 10 ** np.arange(0, np.log10(df_clean['duration_min'].max())+log_binsize, log_binsize)\n",
    "\n",
    "plt.figure(figsize=[8, 5]);\n",
    "plt.hist(data = df_clean, x = 'duration_min', bins = bins);\n",
    "plt.xscale('log');\n",
    "plt.xticks([1, 2, 5, 10, 20, 50, 100, 200, 500, 1000, 2000], [1, 2, 5, 10, 20, 50, 100, 200, 500, 1000, 2000]);\n",
    "plt.xlabel('Duration (min)');"
   ]
  },
  {
   "cell_type": "markdown",
   "metadata": {},
   "source": [
    "The distribution now looks closer to normal distribution. But, there is a long tail still. Let's remove the long tail."
   ]
  },
  {
   "cell_type": "code",
   "execution_count": 96,
   "metadata": {},
   "outputs": [
    {
     "name": "stdout",
     "output_type": "stream",
     "text": [
      "<class 'pandas.core.frame.DataFrame'>\n",
      "Int64Index: 182308 entries, 4 to 183411\n",
      "Data columns (total 17 columns):\n",
      "duration_sec               182308 non-null int64\n",
      "start_time                 182308 non-null datetime64[ns]\n",
      "end_time                   182308 non-null datetime64[ns]\n",
      "start_station_id           182308 non-null float64\n",
      "start_station_name         182308 non-null object\n",
      "start_station_latitude     182308 non-null float64\n",
      "start_station_longitude    182308 non-null float64\n",
      "end_station_id             182308 non-null float64\n",
      "end_station_name           182308 non-null object\n",
      "end_station_latitude       182308 non-null float64\n",
      "end_station_longitude      182308 non-null float64\n",
      "bike_id                    182308 non-null int64\n",
      "user_type                  182308 non-null object\n",
      "bike_share_for_all_trip    182308 non-null object\n",
      "start_time_dayofweek       182308 non-null category\n",
      "start_time_hour            182308 non-null int64\n",
      "duration_min               182308 non-null float64\n",
      "dtypes: category(1), datetime64[ns](2), float64(7), int64(3), object(4)\n",
      "memory usage: 23.8+ MB\n"
     ]
    }
   ],
   "source": [
    "# Leave record with duration_min < 100 min\n",
    "df_clean = df_clean[df_clean['duration_min'] <= 100]\n",
    "df_clean.info()"
   ]
  },
  {
   "cell_type": "code",
   "execution_count": 97,
   "metadata": {},
   "outputs": [],
   "source": [
    "# save cleaned data \n",
    "df_clean.to_csv('clean_master_file.csv', index=False)"
   ]
  },
  {
   "cell_type": "code",
   "execution_count": 98,
   "metadata": {},
   "outputs": [],
   "source": [
    "default_color = sb.color_palette()[0]"
   ]
  },
  {
   "cell_type": "code",
   "execution_count": 99,
   "metadata": {},
   "outputs": [
    {
     "data": {
      "image/png": "[encoded data removed]",
      "text/plain": [
       "<Figure size 432x288 with 1 Axes>"
      ]
     },
     "metadata": {
      "needs_background": "light"
     },
     "output_type": "display_data"
    }
   ],
   "source": [
    "sb.countplot(data = df_clean, x = 'start_time_hour', color = default_color);"
   ]
  },
  {
   "cell_type": "markdown",
   "metadata": {},
   "source": [
    "8:00 AM and 5:00 PM are the two peak hours which have most bikers."
   ]
  },
  {
   "cell_type": "code",
   "execution_count": 100,
   "metadata": {},
   "outputs": [
    {
     "data": {
      "image/png": "[encoded data removed]",
      "text/plain": [
       "<Figure size 432x288 with 1 Axes>"
      ]
     },
     "metadata": {
      "needs_background": "light"
     },
     "output_type": "display_data"
    }
   ],
   "source": [
    "sb.countplot(data = df_clean, x = 'start_time_dayofweek', color = default_color);"
   ]
  },
  {
   "cell_type": "markdown",
   "metadata": {},
   "source": [
    "Thursday has most bikers."
   ]
  },
  {
   "cell_type": "code",
   "execution_count": 101,
   "metadata": {},
   "outputs": [
    {
     "data": {
      "image/png": "[encoded data removed]",
      "text/plain": [
       "<Figure size 432x288 with 1 Axes>"
      ]
     },
     "metadata": {
      "needs_background": "light"
     },
     "output_type": "display_data"
    }
   ],
   "source": [
    "sb.countplot(data = df_clean, x = 'user_type', color = default_color);"
   ]
  },
  {
   "cell_type": "markdown",
   "metadata": {},
   "source": [
    "'Subscriber' user are more than 'Customer' user."
   ]
  },
  {
   "cell_type": "markdown",
   "metadata": {},
   "source": [
    "# Bivariate Exploration"
   ]
  },
  {
   "cell_type": "code",
   "execution_count": 104,
   "metadata": {},
   "outputs": [],
   "source": [
    "all_numeric_vars = ['duration_sec', 'start_time', 'end_time', 'start_station_id', 'start_station_latitude', 'start_station_longitude', 'end_station_id', 'end_station_latitude',\n",
    "'end_station_longitude', 'bike_id', 'duration_min']\n",
    "numeric_vars = ['duration_min', 'bike_id']\n",
    "categoric_vars = ['start_time_dayofweek', 'start_time_hour', 'user_type']"
   ]
  },
  {
   "cell_type": "markdown",
   "metadata": {},
   "source": [
    "Although we will not investigate all the numeric variables, let's still look at for pairwise correlations which might present between numeric variables the data."
   ]
  },
  {
   "cell_type": "code",
   "execution_count": 105,
   "metadata": {},
   "outputs": [
    {
     "data": {
      "image/png": "[encoded data removed]",
      "text/plain": [
       "<Figure size 720x720 with 2 Axes>"
      ]
     },
     "metadata": {
      "needs_background": "light"
     },
     "output_type": "display_data"
    }
   ],
   "source": [
    "# correlation plot\n",
    "plt.figure(figsize = [10, 10])\n",
    "sb.heatmap(df_clean[all_numeric_vars].corr(), annot = True, fmt = '.3f', cmap = 'vlag_r', center = 0);"
   ]
  },
  {
   "cell_type": "markdown",
   "metadata": {},
   "source": [
    "The correlation cofficients indicate there might be correlations between the following pairs of variables: (start_station_id, end_station_id), (start_station_latitude, start_station_longitude), and (end_station_latitude, end_station_longitude). However, there are no strong evidences to support these. So these might happen just by accident."
   ]
  },
  {
   "cell_type": "markdown",
   "metadata": {},
   "source": [
    "Next, let's look at the relationship between the numeric variables we are interested in: duration_min and bike_id."
   ]
  },
  {
   "cell_type": "code",
   "execution_count": 106,
   "metadata": {},
   "outputs": [
    {
     "name": "stderr",
     "output_type": "stream",
     "text": [
      "D:\\condas\\lib\\site-packages\\pandas\\core\\indexing.py:1472: FutureWarning: \n",
      "Passing list-likes to .loc or [] with any missing label will raise\n",
      "KeyError in the future, you can use .reindex() as an alternative.\n",
      "\n",
      "See the documentation here:\n",
      "https://pandas.pydata.org/pandas-docs/stable/indexing.html#deprecate-loc-reindex-listlike\n",
      "  return self._getitem_tuple(key)\n",
      "D:\\condas\\lib\\site-packages\\numpy\\lib\\histograms.py:754: RuntimeWarning: invalid value encountered in greater_equal\n",
      "  keep = (tmp_a >= first_edge)\n",
      "D:\\condas\\lib\\site-packages\\numpy\\lib\\histograms.py:755: RuntimeWarning: invalid value encountered in less_equal\n",
      "  keep &= (tmp_a <= last_edge)\n"
     ]
    },
    {
     "data": {
      "image/png": "[encoded data removed]",
      "text/plain": [
       "<Figure size 864x576 with 6 Axes>"
      ]
     },
     "metadata": {
      "needs_background": "light"
     },
     "output_type": "display_data"
    }
   ],
   "source": [
    "# plot matrix: sample 500 records so that plots are clearer and\n",
    "# they render faster\n",
    "\n",
    "samples = np.random.choice(df_clean.shape[0], 500, replace = False)\n",
    "samp = df_clean.loc[samples,:]\n",
    "\n",
    "g = sb.PairGrid(data = samp, vars = numeric_vars, height = 4, aspect = 1.5)\n",
    "g = g.map_diag(plt.hist, bins = 20);\n",
    "g.map_offdiag(plt.scatter);"
   ]
  },
  {
   "cell_type": "markdown",
   "metadata": {},
   "source": [
    "There is no specific relationship (like linear) between duration_min and bike_id. There is a dense area in the bottom left plot: around 5000, and around duration 10 minutes. As we saw eariler, the mean of user_id is around 3500, and the mean of the duration is around 10, while peak is around 5."
   ]
  },
  {
   "cell_type": "code",
   "execution_count": 107,
   "metadata": {},
   "outputs": [
    {
     "data": {
      "text/plain": [
       "<Figure size 1080x1080 with 0 Axes>"
      ]
     },
     "metadata": {},
     "output_type": "display_data"
    },
    {
     "data": {
      "image/png": "[encoded data removed]",
      "text/plain": [
       "<Figure size 972x432 with 6 Axes>"
      ]
     },
     "metadata": {
      "needs_background": "light"
     },
     "output_type": "display_data"
    }
   ],
   "source": [
    "# plot matrix of numeric features against categorical features.\n",
    "# can use a larger sample since there are fewer plots and they're simpler in nature.\n",
    "\n",
    "samples = np.random.choice(df_clean.shape[0], 2000, replace = False);\n",
    "samp = df_clean.loc[samples, :];\n",
    "\n",
    "def boxgrid(x, y, **kwargs):\n",
    "    \"\"\" Quick hack for creating box plots with seaborn's PairGrid. \"\"\"\n",
    "    default_color = sb.color_palette()[0];\n",
    "    sb.boxplot(x, y, color = default_color);\n",
    "\n",
    "plt.figure(figsize = [15, 15]);\n",
    "g = sb.PairGrid(data = samp, y_vars = ['duration_min', 'bike_id'], x_vars = categoric_vars, height = 3, aspect = 1.5);\n",
    "g.map(boxgrid);"
   ]
  },
  {
   "cell_type": "markdown",
   "metadata": {},
   "source": [
    "Observations from above plots:\n",
    "\n",
    "Bike rides on Saturday and Sunday have longer durations compared to bike rides on other weekdays.\n",
    "Bike rides start between 5:00 AM to 6:00 PM have the longest mean durations compared to other time frames.\n",
    "Female bikers bike longer on average compared to male bikers.\n",
    "Bikers with user_type 'Customer' bikes longer on average compared to bikers with user_type 'Subscriber'.\n",
    "The mean age of bikers on Tuesday and Wednesday are higher than the mean age of bikers on other days.\n",
    "The mean age of bikers on Sunday is lower than the mean age of bikers on other days.\n",
    "The mean age of bikers who start between 6:00 AM to 7:00 AM is higher compared to the mean age of bikers who start at other time frames.\n",
    "The mean age of male bikers is higher than the mean age of female bikers.\n",
    "The mean age of bikers who are belong to 'Subscriber' type is higher than the mean age of bikers who are belong to 'Customer' type."
   ]
  },
  {
   "cell_type": "code",
   "execution_count": null,
   "metadata": {},
   "outputs": [],
   "source": [
    "plt.figure(figsize = [20, 20]);\n",
    "\n",
    "\n",
    "plt.subplot(6, 1, 1);\n",
    "sb.countplot(data = df_clean, x = 'start_time_hour', hue = 'start_time_dayofweek', palette = 'Blues');\n",
    "\n",
    "\n",
    "ax = plt.subplot(6, 1, 2);\n",
    "sb.countplot(data = df_clean, x = 'start_time_hour', hue = 'bike_id', palette = 'Blues');\n",
    "ax.legend(ncol = 2); # re-arrange legend to reduce overlapping\n",
    "\n",
    "\n",
    "ax = plt.subplot(6, 1, 3);\n",
    "sb.countplot(data = df_clean, x = 'start_time_hour', hue = 'user_type', palette = 'Greens');\n",
    "ax.legend(loc = 1, ncol = 2); # re-arrange legend to remove overlapping\n",
    "\n",
    "ax = plt.subplot(6, 1, 4);\n",
    "sb.countplot(data = df_clean, x = 'start_time_dayofweek', hue = 'user_type', palette = 'autumn');\n"
   ]
  },
  {
   "cell_type": "markdown",
   "metadata": {},
   "source": [
    "Observations from above plots:\n",
    "\n",
    "Tuesday, 5:00 PM has the highest biker counts across 7 days, 24 hours.\n",
    "5:00 PM has the most male bikers compared to other hours. 8:00 AM and 5:00 PM have more female bikers compared to other hours.\n",
    "5:00 PM has the most 'Subscriber' bikers compared to other hours. It also has the most 'Customer' bikers compared to other hours.\n",
    "Tuesday has the most male bikers compared to other days. It also has the most female bikers compared to other days.\n",
    "Tuesday has the most 'Subscriber' bikers compared to other days. Saturday has the most 'Customer' bikers compared to other days.\n",
    "Most 'Subscriber' are male. Most 'Customer' bikers are also male."
   ]
  },
  {
   "cell_type": "markdown",
   "metadata": {},
   "source": [
    "Let's make a plot with Log tranform on duration_min axis."
   ]
  },
  {
   "cell_type": "code",
   "execution_count": null,
   "metadata": {},
   "outputs": [],
   "source": [
    "# scatter plot of duration_min vs. member_age, with log transform on duration_min axis\n",
    "samples = np.random.choice(df_clean.shape[0], 5000, replace = False)\n",
    "samp = df_clean.loc[samples,:]\n",
    "\n",
    "plt.figure(figsize = [8, 6]);\n",
    "plt.scatter(data = samp, x = 'bike_id', y = 'duration_min', alpha = 1/10);\n",
    "#plt.xlim([0, 3.5])\n",
    "plt.xlabel('bike_id');\n",
    "plt.yscale('log');\n",
    "plt.yticks([1, 2, 5, 10, 20, 50, 100], [1, 2, 5, 10, 20, 50, 100]);\n",
    "plt.ylabel('Duration (min)');"
   ]
  },
  {
   "cell_type": "code",
   "execution_count": null,
   "metadata": {},
   "outputs": [],
   "source": [
    "# compute the logarithm of price to make multivariate plotting easier\n",
    "def log_trans(x, inverse = False):\n",
    "    \"\"\" quick function for computing log and power operations \"\"\"\n",
    "    if not inverse:\n",
    "        return np.log10(x)\n",
    "    else:\n",
    "        return np.power(10, x)\n",
    "\n",
    "df_clean['log_duration_min'] = df_clean['duration_min'].apply(log_trans)"
   ]
  },
  {
   "cell_type": "code",
   "execution_count": null,
   "metadata": {},
   "outputs": [],
   "source": [
    "# plot the categorical variables against duration_min and member_age again, this time\n",
    "# with full data and variable transforms\n",
    "fig, ax = plt.subplots(ncols = 2, nrows = 4 , figsize = [15,10])\n",
    "\n",
    "for i in range(len(categoric_vars)):\n",
    "    var = categoric_vars[i]\n",
    "    sb.violinplot(data = df_clean, x = var, y = 'log_duration_min', ax = ax[i,0], color = default_color);\n",
    "    ax[i,0].set_yticks(log_trans(np.array([1, 2, 5, 10, 20, 50, 100])));\n",
    "    ax[i,0].set_yticklabels([1, 2, 5, 10, 20, 50, 100]);\n",
    "    sb.violinplot(data = df_clean, x = var, y = 'bike_id', ax = ax[i,1], color = default_color);"
   ]
  },
  {
   "cell_type": "markdown",
   "metadata": {},
   "source": [
    "Talk about some of the relationships you observed in this part of the investigation. How did the feature(s) of interest vary with other features in the dataset?\n",
    "Bike rides on Saturday and Sunday have longer durations compared to bike rides on other weekdays.\n",
    "Bike rides start between 5:00 AM to 6:00 PM have the longest mean durations compared to other time frames.\n",
    "Female bikers bike longer on average compared to male bikers.\n",
    "Bikers with user_type 'Customer' bikes longer on average compared to bikers with user_type 'Subscriber'.\n",
    "There are more bike rides with durations close to mean duration time (10 minutes) on the weekdays compared to the bike rides on the weekends.\n",
    "The mean bike duration for female biker is longer than the the mean duration of the male bikers.\n",
    "The mean bike duration for 'Customer' biker is longer than the the mean duration of the 'Subscriber' bikers.\n",
    "Did you observe any interesting relationships between the other features (not the main feature(s) of interest)?\n",
    "Observations from above plots:\n",
    "\n",
    "The mean age of bikers on Tuesday and Wednesday are higher than the mean age of bikers on other days.\n",
    "The mean age of bikers on Sunday is lower than the mean age of bikers on other days.\n",
    "The mean age of bikers who start between 6:00 AM to 7:00 AM is higher compared to the mean age of bikers who start at other time frames.\n",
    "The mean age of male bikers is higher than the mean age of female bikers.\n",
    "The mean age of bikers who are belong to 'Subscriber' type is higher than the mean age of bikers who are belong to 'Customer' type.\n",
    "Tuesday, 5:00 PM has the highest biker counts across 7 days, 24 hours.\n",
    "5:00 PM has the most male bikers compared to other hours. 8:00 AM and 5:00 PM have more female bikers compared to other hours.\n",
    "5:00 PM has the most 'Subscriber' bikers compared to other hours. It also has the most 'Customer' bikers compared to"
   ]
  },
  {
   "cell_type": "markdown",
   "metadata": {},
   "source": [
    "# Multivariate Exploration"
   ]
  },
  {
   "cell_type": "code",
   "execution_count": null,
   "metadata": {},
   "outputs": [],
   "source": [
    "def hist2dgrid(x, y, **kwargs):\n",
    "    \"\"\" Quick hack for creating heat maps with seaborn's PairGrid. \"\"\"\n",
    "    palette = kwargs.pop('color');\n",
    "    bins_x = np.arange(4550, df_clean['bike_id'].max()+2, 2);\n",
    "    bins_y = np.arange(0, 2, 0.1);\n",
    "    plt.hist2d(x, y, bins = [bins_x, bins_y], cmap = palette, cmin = 0.5);\n",
    "    plt.yticks(log_trans(np.array([1, 2, 5, 10, 20, 50, 100])),\n",
    "               [1, 2, 5, 10, 20, 50, 100]);"
   ]
  },
  {
   "cell_type": "code",
   "execution_count": null,
   "metadata": {},
   "outputs": [],
   "source": [
    "# create faceted heat maps on levels of the cut variable\n",
    "g = sb.FacetGrid(data = df_clean, col = 'start_time_dayofweek', col_wrap = 3, height = 3);\n",
    "g.map(hist2dgrid, 'bike_id', 'log_duration_min', color = 'inferno_r');\n",
    "g.set_xlabels('Bike Id');\n",
    "g.set_ylabels('Duration (min)');"
   ]
  },
  {
   "cell_type": "markdown",
   "metadata": {},
   "source": [
    "Observations:\n",
    "\n",
    "Bike rides on Saturday and Sunday have longer durations compared to bike rides on other weekdays."
   ]
  },
  {
   "cell_type": "code",
   "execution_count": null,
   "metadata": {},
   "outputs": [],
   "source": [
    "g = sb.FacetGrid(data = df_clean, col = 'start_time_hour', col_wrap = 4, height = 3)\n",
    "g.map(hist2dgrid, 'bike_id', 'log_duration_min', color = 'inferno_r');\n",
    "g.set_xlabels('Bike ID')\n",
    "g.set_ylabels('Duration (min)');"
   ]
  },
  {
   "cell_type": "code",
   "execution_count": null,
   "metadata": {},
   "outputs": [],
   "source": [
    "\n",
    "# create faceted heat maps on start_time_dayofweek and start_time_hour\n",
    "g = sb.FacetGrid(data = df_clean, col = 'start_time_dayofweek', row = 'start_time_hour', height = 2.5, margin_titles = True);\n",
    "g.map(hist2dgrid, 'bike_id', 'log_duration_min', color = 'inferno_r');\n",
    "g.set_xlabels('Bike ID');\n",
    "g.set_ylabels('Duration (min)');"
   ]
  },
  {
   "cell_type": "markdown",
   "metadata": {},
   "source": [
    "Talk about some of the relationships you observed in this part of the investigation. Were there features that strengthened each other in terms of looking at your feature(s) of interest?\n",
    "The features we investigated here are pretty much indenpendant from each other. We did not observed features that strengthened each other in terms of looking at features to my interest.\n",
    "Were there any interesting or surprising interactions between features?\n",
    "Bike rides on Saturday and Sunday have longer durations compared to bike rides on other weekdays.\n",
    "4:00 AM has least bikers while 5:00 PM has the most bikers.\n",
    "Female bikers bike longer on average compared to male bikers.\n",
    "'Customer' bikers bike longer on average compared to 'Subscriber' bikers.\n",
    "The bikers are the least in 3:00 AM and 4:00 AM.\n",
    "There are less bikers on Saturday and on Sundays on average.\n",
    "There are more younger bikers (age < 40) across 7 days and 24 hours."
   ]
  },
  {
   "cell_type": "code",
   "execution_count": null,
   "metadata": {},
   "outputs": [],
   "source": []
  }
 ],
 "metadata": {
  "kernelspec": {
   "display_name": "Python 3",
   "language": "python",
   "name": "python3"
  },
  "language_info": {
   "codemirror_mode": {
    "name": "ipython",
    "version": 3
   },
   "file_extension": ".py",
   "mimetype": "text/x-python",
   "name": "python",
   "nbconvert_exporter": "python",
   "pygments_lexer": "ipython3",
   "version": "3.7.1"
  }
 },
 "nbformat": 4,
 "nbformat_minor": 2
}
